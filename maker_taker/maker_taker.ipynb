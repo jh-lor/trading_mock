{
 "cells": [
  {
   "cell_type": "code",
   "execution_count": 4,
   "metadata": {},
   "outputs": [],
   "source": [
    "from maker_taker_base import Game, Taker, Maker\n",
    "from sample_traders import CenterMaker, GreedyTaker, FaderMaker\n",
    "import pandas as pd\n",
    "import statistics"
   ]
  },
  {
   "cell_type": "code",
   "execution_count": 5,
   "metadata": {},
   "outputs": [],
   "source": [
    "from dataclasses import dataclass\n",
    "\n",
    "\n",
    "@dataclass\n",
    "class SimResults:\n",
    "    mean_pnl: float\n",
    "    std_pnl: float\n",
    "    tstat: float\n",
    "    maker_pnl: list\n",
    "\n",
    "def run_one_sim(taker, maker, seed = 0):\n",
    "    return Game(taker, maker).runGame()\n",
    "\n",
    "def run_sims(taker, maker, n = 100):\n",
    "    maker_pnl = []\n",
    "    for sim in range(n):\n",
    "        maker_pnl.append(run_one_sim(taker,maker)['maker_pnl'])\n",
    "    return SimResults(statistics.mean(maker_pnl), statistics.stdev(maker_pnl), statistics.mean(maker_pnl)/statistics.stdev(maker_pnl), maker_pnl)\n",
    "    "
   ]
  },
  {
   "cell_type": "code",
   "execution_count": 6,
   "metadata": {},
   "outputs": [
    {
     "data": {
      "text/plain": [
       "SimResults(mean_pnl=-63.09, std_pnl=42.55147684649948, tstat=-1.4826747430551317, maker_pnl=[-69, -12, -54, -39, -6, -117, -60, -81, -114, -126, -75, -135, -102, -108, -72, -69, -69, -9, -129, -96, 3, -90, -135, -108, -69, 9, -87, -3, 3, -126, -42, -48, -12, -96, -54, -57, -84, -54, -48, -78, -78, -3, -39, -12, -30, -78, -81, -36, -27, -126, -6, -129, -117, -42, -90, -21, -69, -90, -54, -60, -129, -3, -54, -87, -9, -87, 0, -114, -72, -108, -12, -126, -117, -51, -33, -54, -45, -87, -120, -93, 12, -108, 9, -96, 3, -21, 6, -84, -90, -30, -135, -66, -99, -42, -42, -69, -9, 9, -45, -105])"
      ]
     },
     "execution_count": 6,
     "metadata": {},
     "output_type": "execute_result"
    }
   ],
   "source": [
    "run_sims(GreedyTaker, CenterMaker)"
   ]
  },
  {
   "cell_type": "code",
   "execution_count": null,
   "metadata": {},
   "outputs": [],
   "source": []
  }
 ],
 "metadata": {
  "kernelspec": {
   "display_name": "Python 3.8.9 64-bit",
   "language": "python",
   "name": "python3"
  },
  "language_info": {
   "codemirror_mode": {
    "name": "ipython",
    "version": 3
   },
   "file_extension": ".py",
   "mimetype": "text/x-python",
   "name": "python",
   "nbconvert_exporter": "python",
   "pygments_lexer": "ipython3",
   "version": "3.8.9"
  },
  "orig_nbformat": 4,
  "vscode": {
   "interpreter": {
    "hash": "31f2aee4e71d21fbe5cf8b01ff0e069b9275f58929596ceb00d14d90e3e16cd6"
   }
  }
 },
 "nbformat": 4,
 "nbformat_minor": 2
}
