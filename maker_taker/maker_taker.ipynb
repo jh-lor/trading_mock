{
 "cells": [
  {
   "cell_type": "code",
   "execution_count": 9,
   "metadata": {},
   "outputs": [
    {
     "name": "stdout",
     "output_type": "stream",
     "text": [
      "Requirement already satisfied: pandas in /Users/lor/opt/anaconda3/lib/python3.9/site-packages (1.4.2)\n",
      "Requirement already satisfied: python-dateutil>=2.8.1 in /Users/lor/opt/anaconda3/lib/python3.9/site-packages (from pandas) (2.8.2)\n",
      "Requirement already satisfied: pytz>=2020.1 in /Users/lor/opt/anaconda3/lib/python3.9/site-packages (from pandas) (2021.3)\n",
      "Requirement already satisfied: numpy>=1.18.5 in /Users/lor/opt/anaconda3/lib/python3.9/site-packages (from pandas) (1.21.5)\n",
      "Requirement already satisfied: six>=1.5 in /Users/lor/opt/anaconda3/lib/python3.9/site-packages (from python-dateutil>=2.8.1->pandas) (1.16.0)\n"
     ]
    }
   ],
   "source": [
    "!pip install pandas"
   ]
  },
  {
   "cell_type": "code",
   "execution_count": 10,
   "metadata": {},
   "outputs": [
    {
     "ename": "ModuleNotFoundError",
     "evalue": "No module named 'pandas'",
     "output_type": "error",
     "traceback": [
      "\u001b[0;31m---------------------------------------------------------------------------\u001b[0m",
      "\u001b[0;31mModuleNotFoundError\u001b[0m                       Traceback (most recent call last)",
      "Cell \u001b[0;32mIn [10], line 3\u001b[0m\n\u001b[1;32m      1\u001b[0m \u001b[39mfrom\u001b[39;00m \u001b[39mmaker_taker_base\u001b[39;00m \u001b[39mimport\u001b[39;00m Game, Taker, Maker\n\u001b[1;32m      2\u001b[0m \u001b[39mfrom\u001b[39;00m \u001b[39msample_traders\u001b[39;00m \u001b[39mimport\u001b[39;00m CenterMaker, GreedyTaker, FaderMaker\n\u001b[0;32m----> 3\u001b[0m \u001b[39mimport\u001b[39;00m \u001b[39mpandas\u001b[39;00m \u001b[39mas\u001b[39;00m \u001b[39mpd\u001b[39;00m\n\u001b[1;32m      4\u001b[0m \u001b[39mimport\u001b[39;00m \u001b[39mstatistics\u001b[39;00m\n",
      "\u001b[0;31mModuleNotFoundError\u001b[0m: No module named 'pandas'"
     ]
    }
   ],
   "source": [
    "from maker_taker_base import Game, Taker, Maker\n",
    "from sample_traders import CenterMaker, GreedyTaker, FaderMaker\n",
    "import pandas as pd\n",
    "import statistics"
   ]
  },
  {
   "cell_type": "code",
   "execution_count": 7,
   "metadata": {},
   "outputs": [],
   "source": [
    "from dataclasses import dataclass\n",
    "\n",
    "\n",
    "@dataclass\n",
    "class SimResults:\n",
    "    mean_pnl: float\n",
    "    std_pnl: float\n",
    "    tstat: float\n",
    "    maker_pnl: list\n",
    "\n",
    "def run_one_sim(taker, maker, seed = 0):\n",
    "    return Game(taker, maker).runGame()\n",
    "\n",
    "def run_sims(taker, maker, n = 100):\n",
    "    maker_pnl = []\n",
    "    for sim in range(n):\n",
    "        maker_pnl.append(run_one_sim(taker,maker)['maker_pnl'])\n",
    "    return SimResults(statistics.mean(maker_pnl), statistics.stdev(maker_pnl), statistics.mean(maker_pnl)/statistics.stdev(maker_pnl), maker_pnl)\n",
    "    "
   ]
  },
  {
   "cell_type": "code",
   "execution_count": 8,
   "metadata": {},
   "outputs": [
    {
     "ename": "NameError",
     "evalue": "name 'statistics' is not defined",
     "output_type": "error",
     "traceback": [
      "\u001b[0;31m---------------------------------------------------------------------------\u001b[0m",
      "\u001b[0;31mNameError\u001b[0m                                 Traceback (most recent call last)",
      "File \u001b[0;32m<timed eval>:1\u001b[0m\n",
      "Cell \u001b[0;32mIn [7], line 18\u001b[0m, in \u001b[0;36mrun_sims\u001b[0;34m(taker, maker, n)\u001b[0m\n\u001b[1;32m     16\u001b[0m \u001b[39mfor\u001b[39;00m sim \u001b[39min\u001b[39;00m \u001b[39mrange\u001b[39m(n):\n\u001b[1;32m     17\u001b[0m     maker_pnl\u001b[39m.\u001b[39mappend(run_one_sim(taker,maker)[\u001b[39m'\u001b[39m\u001b[39mmaker_pnl\u001b[39m\u001b[39m'\u001b[39m])\n\u001b[0;32m---> 18\u001b[0m \u001b[39mreturn\u001b[39;00m SimResults(statistics\u001b[39m.\u001b[39mmean(maker_pnl), statistics\u001b[39m.\u001b[39mstdev(maker_pnl), statistics\u001b[39m.\u001b[39mmean(maker_pnl)\u001b[39m/\u001b[39mstatistics\u001b[39m.\u001b[39mstdev(maker_pnl), maker_pnl)\n",
      "\u001b[0;31mNameError\u001b[0m: name 'statistics' is not defined"
     ]
    }
   ],
   "source": [
    "%%time\n",
    "display(run_sims(GreedyTaker, CenterMaker))\n",
    "# display(run_sims(GreedyTaker, FaderMaker))"
   ]
  },
  {
   "cell_type": "code",
   "execution_count": null,
   "metadata": {},
   "outputs": [],
   "source": []
  }
 ],
 "metadata": {
  "kernelspec": {
   "display_name": "Python 3.8.9 64-bit",
   "language": "python",
   "name": "python3"
  },
  "language_info": {
   "codemirror_mode": {
    "name": "ipython",
    "version": 3
   },
   "file_extension": ".py",
   "mimetype": "text/x-python",
   "name": "python",
   "nbconvert_exporter": "python",
   "pygments_lexer": "ipython3",
   "version": "3.9.6"
  },
  "orig_nbformat": 4,
  "vscode": {
   "interpreter": {
    "hash": "31f2aee4e71d21fbe5cf8b01ff0e069b9275f58929596ceb00d14d90e3e16cd6"
   }
  }
 },
 "nbformat": 4,
 "nbformat_minor": 2
}
