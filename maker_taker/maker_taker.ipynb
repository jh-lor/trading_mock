{
 "cells": [
  {
   "cell_type": "code",
   "execution_count": 5,
   "metadata": {},
   "outputs": [],
   "source": [
    "from maker_taker_base import Game, Taker, Maker\n",
    "from sample_traders import CenterMaker, GreedyTaker, FaderMaker\n",
    "from GOODSTRATEGIES import TrapMaker\n",
    "import pandas as pd\n",
    "import statistics"
   ]
  },
  {
   "cell_type": "code",
   "execution_count": 6,
   "metadata": {},
   "outputs": [],
   "source": [
    "from dataclasses import dataclass\n",
    "\n",
    "\n",
    "@dataclass\n",
    "class SimResults:\n",
    "    mean_pnl: float\n",
    "    std_pnl: float\n",
    "    tstat: float\n",
    "    maker_pnl: list\n",
    "\n",
    "def run_one_sim(taker, maker, seed = 0):\n",
    "    return Game(taker, maker).runGame()\n",
    "\n",
    "def run_sims(taker, maker, n = 100):\n",
    "    maker_pnl = []\n",
    "    for sim in range(n):\n",
    "        maker_pnl.append(run_one_sim(taker,maker)['maker_pnl'])\n",
    "    return SimResults(statistics.mean(maker_pnl), statistics.stdev(maker_pnl), statistics.mean(maker_pnl)/statistics.stdev(maker_pnl), maker_pnl)\n",
    "    "
   ]
  },
  {
   "cell_type": "code",
   "execution_count": 7,
   "metadata": {},
   "outputs": [
    {
     "data": {
      "text/plain": [
       "SimResults(mean_pnl=1034.73, std_pnl=2410.5675129405618, tstat=0.4292474674305103, maker_pnl=[4504.0, -54, -89, 0, -164, -74, -65, -34, -36, 4000, -197, -41, -110, -185, 7498.0, -34, 6503.0, 6497.0, -77, 3000, -57, -197, -134, -194, -33, -155, -179, -152, -40, 7498.0, 4496.0, -57, 7501.0, -42, 7499.0, -41, -42, -51, -59, 4496.0, -49, 4000, -35, -113, 2000, -146, -55, 4496.0, -179, 2000, -179, -194, -57, -146, -48, -41, -55, 7500.0, 7501.0, -52, -167, -44, 7499.0, -200, -50, -53, -58, -149, -56, -62, -167, -200, -54, -98, -77, -74, 1000, -98, -155, -179, 4000, -68, -155, -63, -167, -45, -47, -57, -56, 7501.0, -61, -125, -59, -61, -80, -137, -122, -140, -119, -71])"
      ]
     },
     "execution_count": 7,
     "metadata": {},
     "output_type": "execute_result"
    }
   ],
   "source": [
    "run_sims(GreedyTaker, TrapMaker)"
   ]
  },
  {
   "cell_type": "code",
   "execution_count": null,
   "metadata": {},
   "outputs": [],
   "source": []
  }
 ],
 "metadata": {
  "kernelspec": {
   "display_name": "Python 3.9.12 ('base')",
   "language": "python",
   "name": "python3"
  },
  "language_info": {
   "codemirror_mode": {
    "name": "ipython",
    "version": 3
   },
   "file_extension": ".py",
   "mimetype": "text/x-python",
   "name": "python",
   "nbconvert_exporter": "python",
   "pygments_lexer": "ipython3",
   "version": "3.9.12"
  },
  "orig_nbformat": 4,
  "vscode": {
   "interpreter": {
    "hash": "c199eff84f1223b88966cd9433fa25e27400f773efd6b57160ac4fb5f8dd8d48"
   }
  }
 },
 "nbformat": 4,
 "nbformat_minor": 2
}
